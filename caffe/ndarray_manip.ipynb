{
 "worksheets": [
  {
   "cells": [
    {
     "cell_type": "code",
     "execution_count": null,
     "metadata": {},
     "outputs": [
      {
       "prompt_number": 2,
       "metadata": {},
       "output_type": "pyout",
       "text": [
        "array([0, 1, 2])"
       ]
      }
     ],
     "input": [
      "import numpy as np\n",
      "x = np.arange(3)\n",
      "x"
     ],
     "language": "python",
     "prompt_number": 2
    },
    {
     "cell_type": "code",
     "execution_count": null,
     "metadata": {},
     "outputs": [
      {
       "prompt_number": 3,
       "metadata": {},
       "output_type": "pyout",
       "text": [
        "(3,)"
       ]
      }
     ],
     "input": [
      "x.shape"
     ],
     "language": "python",
     "prompt_number": 3
    },
    {
     "cell_type": "code",
     "execution_count": null,
     "metadata": {},
     "outputs": [
      {
       "prompt_number": 4,
       "metadata": {},
       "output_type": "pyout",
       "text": [
        "array([[0],\n",
        "       [1],\n",
        "       [2]])"
       ]
      }
     ],
     "input": [
      "x[:, np.newaxis]"
     ],
     "language": "python",
     "prompt_number": 4
    },
    {
     "cell_type": "code",
     "execution_count": null,
     "metadata": {},
     "outputs": [
      {
       "prompt_number": 7,
       "metadata": {},
       "output_type": "pyout",
       "text": [
        "(3, 1)"
       ]
      }
     ],
     "input": [
      "y = np.arange(3)\n",
      "y.shape=(3,1)\n",
      "y.shape"
     ],
     "language": "python",
     "prompt_number": 7
    },
    {
     "cell_type": "code",
     "execution_count": null,
     "metadata": {},
     "outputs": [
      {
       "prompt_number": 8,
       "metadata": {},
       "output_type": "pyout",
       "text": [
        "array([[0],\n",
        "       [1],\n",
        "       [2]])"
       ]
      }
     ],
     "input": [
      "y"
     ],
     "language": "python",
     "prompt_number": 8
    },
    {
     "cell_type": "code",
     "execution_count": null,
     "metadata": {},
     "outputs": [
      {
       "prompt_number": 9,
       "metadata": {},
       "output_type": "pyout",
       "text": [
        "2"
       ]
      }
     ],
     "input": [
      "y[2][0]"
     ],
     "language": "python",
     "prompt_number": 9
    },
    {
     "cell_type": "code",
     "execution_count": null,
     "metadata": {},
     "outputs": [
      {
       "stream": "stdout",
       "output_type": "stream",
       "text": [
        "[[0 1 2]]\n"
       ]
      }
     ],
     "input": [
      "print(y.transpose())"
     ],
     "language": "python",
     "prompt_number": 10
    },
    {
     "cell_type": "code",
     "execution_count": null,
     "metadata": {},
     "outputs": [
      {
       "prompt_number": 11,
       "metadata": {},
       "output_type": "pyout",
       "text": [
        "array([[ 1,  2,  3,  4],\n",
        "       [ 5,  6,  7,  8],\n",
        "       [ 9, 10, 11, 12]])"
       ]
      }
     ],
     "input": [
      "X = np.array([[1, 2, 3, 4], [5, 6, 7, 8], [9, 10, 11, 12]])\n",
      "X"
     ],
     "language": "python",
     "prompt_number": 11
    },
    {
     "cell_type": "code",
     "execution_count": null,
     "metadata": {},
     "outputs": [
      {
       "prompt_number": 16,
       "metadata": {},
       "output_type": "pyout",
       "text": [
        "array([[ 2],\n",
        "       [ 6],\n",
        "       [10]])"
       ]
      }
     ],
     "input": [
      "Y=X[:, 1][:, None]\n",
      "Y"
     ],
     "language": "python",
     "prompt_number": 16
    },
    {
     "cell_type": "code",
     "execution_count": null,
     "metadata": {},
     "outputs": [
      {
       "prompt_number": 17,
       "metadata": {},
       "output_type": "pyout",
       "text": [
        "(3, 1)"
       ]
      }
     ],
     "input": [
      "Y.shape"
     ],
     "language": "python",
     "prompt_number": 17
    },
    {
     "cell_type": "code",
     "execution_count": null,
     "metadata": {},
     "outputs": [],
     "input": [
      ""
     ],
     "language": "python"
    }
   ]
  }
 ],
 "cells": [],
 "metadata": {
  "name": "",
  "signature": "sha256:a139f96e4b87f2b9cd1f69f6794a2cb1923cb061ce4cb582a57e2e17d663b633"
 },
 "nbformat": 4,
 "nbformat_minor": 0
}